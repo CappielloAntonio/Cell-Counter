{
 "cells": [
  {
   "cell_type": "markdown",
   "metadata": {},
   "source": [
    "# Importazione delle librerie utilizzate"
   ]
  },
  {
   "cell_type": "code",
   "execution_count": 1,
   "metadata": {},
   "outputs": [],
   "source": [
    "import skimage\n",
    "import numpy as np\n",
    "\n",
    "%matplotlib inline \n",
    "import matplotlib.pyplot as plt\n",
    "\n",
    "from PIL import Image\n",
    "\n",
    "# Disabilito il limite di caricamento per immagini di grandi dimensioni \n",
    "Image.MAX_IMAGE_PIXELS = None\n",
    "\n",
    "import os\n",
    "\n",
    "from skimage import data, filters, feature, measure, morphology, segmentation, color\n",
    "from scipy.ndimage import distance_transform_edt\n",
    "from sklearn.cluster import KMeans\n",
    "\n",
    "import pandas as pd\n",
    "import csv\n",
    "import string\n",
    "import shutil"
   ]
  },
  {
   "cell_type": "markdown",
   "metadata": {},
   "source": [
    "# Definizione del metodo di divisione dell'immagine\n"
   ]
  },
  {
   "cell_type": "code",
   "execution_count": 2,
   "metadata": {},
   "outputs": [],
   "source": [
    "def crop(source_image, height_box, width_box):\n",
    "    # Assegna alle due variabili le dimensioni dell'immagine\n",
    "    imgwidth, imgheight = source_image.size\n",
    "\n",
    "    # Contatore per numerare le tiles nella cartella di destinazione\n",
    "    k = 1\n",
    "    \n",
    "    for row in range(0, imgheight, height_box):\n",
    "        for column in range(0, imgwidth, width_box):\n",
    "            # Creo un riquadro con le coordinate ricavate dai dati\n",
    "            box = (column, row, column + width_box, row + height_box)\n",
    "                            \n",
    "            # Mi assicuro di non creare tile che non vadano oltre le dimensioni massime dell'immagine, in modo da non inserire\n",
    "            # quelle bande nere laterali e inferiori\n",
    "            if(column + width_box < imgwidth and row + height_box < imgheight):\n",
    "                # Creo un riquadro con le coordinate ricavate dai dati\n",
    "                box = (column, row, column + width_box, row + height_box)\n",
    "                \n",
    "            elif (column + width_box > imgwidth and row + height_box < imgheight):\n",
    "                # Creo un riquadro con le coordinate ricavate dai dati, ma l'ultima colonna tagliata\n",
    "                box = (column, row, imgwidth, row + height_box)\n",
    "                \n",
    "            elif (column + width_box < imgwidth and row + height_box > imgheight):\n",
    "                 # Creo un riquadro con le coordinate ricavate dai dati, ma l'ultima riga tagliata\n",
    "                box = (column, row, column + width_box, imgheight)\n",
    "                \n",
    "            elif (column + width_box > imgwidth and row + height_box > imgheight):\n",
    "                 # Creo un riquadro con le coordinate ricavate dai dati, ma l'ultima colonna e riga tagliata\n",
    "                box = (column, row, imgwidth, imgheight)\n",
    "                           \n",
    "                \n",
    "            # Utilizzo le precedenti coordinate per creare il tile\n",
    "            tile = source_image.crop(box)\n",
    "\n",
    "            # Salvo il riquadro (colonne x righe)\n",
    "            tile.save(\"Tiles\\\\\" + str(k) + \"_[\" + str(int(column/1500)) + \"][\" + str(int(row/1500)) + \"].jp2\")\n",
    "\n",
    "            # Incremento il contatore\n",
    "            k += 1\n"
   ]
  },
  {
   "cell_type": "markdown",
   "metadata": {},
   "source": [
    "# Definizione del metodo di segmentazione"
   ]
  },
  {
   "cell_type": "code",
   "execution_count": 3,
   "metadata": {},
   "outputs": [],
   "source": [
    "def segmentation(nucleus, tile):\n",
    "    # Andiamo adesso a levigare la superficie dei nuclei con il submodulo filters, eliminando il rumore dei dettagli\n",
    "    # Applico un median filter di grandezza 5x5 sull'immagine\n",
    "    nucleus_denoised = filters.median(nucleus, selem = np.ones((5, 5)))\n",
    "    \n",
    "    # Il prossimo passo è quello di trovare i bordi delle monete \n",
    "    # Useremo il Canny Edge Detector dal submodulo feature\n",
    "    edges = skimage.feature.canny(nucleus, sigma = 3)\n",
    "    \n",
    "    # Per applicare l'algoritmo di watershed dobbiamo convertire i bordi nell'immagine in un landscape e per questo utilizziamo\n",
    "    # la distance_transform implementata in scipy nel modulo ndimage\n",
    "    dt = distance_transform_edt(~edges)\n",
    "    \n",
    "    # Troviamo la locazione delle fontane \n",
    "    local_max = feature.peak_local_max(dt, indices = False, min_distance = 5)\n",
    "    \n",
    "    # Richiamiamo la stessa funzione di prima, ma questa volta con indices = True \n",
    "    # Ciò ritornerà un array con la posizione di ogni picco, invece del picco visualizzato come in figura\n",
    "    peak_idx = feature.peak_local_max(dt, indices = True, min_distance = 5)\n",
    "    \n",
    "    # Andiamo adesso a catalogare, numerare, ogni punto. Metodo usato dal Watershade per catalogare ogni regione intorno alla \n",
    "    # fontana\n",
    "    markers = measure.label(local_max)\n",
    "    \n",
    "    # Chiamiamo la nostra funzione di watershade sul negativo della nostra distanza dt.\n",
    "    # I bordi delle monete diventeranno i picchi, mentre il corpo della moneta e lo sfondo, diventeranno landscape\n",
    "    labels = morphology.watershed(-dt, markers)\n",
    "    \n",
    "    # Regionprops sarà calcolato per ogni immagine che vediamo\n",
    "    # Per ogni regionprops possiamo adesso calcolare l'area, il bounding box, l'area del bounding box, il centroide...\n",
    "    regions = measure.regionprops(labels, intensity_image = nucleus)\n",
    "    \n",
    "    # Calcoliamo l'intensità media per ciascuna di queste regioni \n",
    "    region_means = [r.mean_intensity for r in regions]\n",
    "    \n",
    "    # Con questo if vado a controllare se l'immagine analizzata ha elementi di rilievo. In caso contrario, \n",
    "    # non procede nelle operazioni e non fa morire il programma   \n",
    "    # TODO: La rilevazione di un'immagine piatta probabilmente può avvenire anche prima\n",
    "    # TODO: Queste immagini piatte non compaiono all'interno delle statistiche finali, forse si potrebbe \n",
    "    #       far in modo da includerle con risultato zero \n",
    "    if region_means:\n",
    "        # Chiediamo a KMeans che siamo interessati a due cluster\n",
    "        model = KMeans(n_clusters = 2)\n",
    "        \n",
    "        # Convertiamo le informazioni ricavate in un array \n",
    "        region_means = np.array(region_means).reshape(-1, 1)\n",
    "        model.fit(region_means)\n",
    "        \n",
    "        # Adesso calcoliamo il valore centrale dei due cluster trovati\n",
    "        bg_fg_labels = model.predict(region_means)\n",
    "        \n",
    "        # Chiediamo adesso al nostro modello di predire le label per ogni regione \n",
    "        classified_labels = labels.copy()\n",
    "        \n",
    "        # Useremo poi la combinazione tra le nostre etichette predette con le diverse regioni e le riclassificheremo secondo le \n",
    "        # coordinate di ogni regione, e assegneremo un valore di background o foreground \n",
    "        for bg_fg, region in zip(bg_fg_labels, regions):\n",
    "            classified_labels[tuple(region.coords.T)] = bg_fg\n",
    "        \n",
    "        result = color.label2rgb(classified_labels, image = nucleus)\n",
    "        \n",
    "        cells = counter(result, tile)\n",
    "        return(cells)"
   ]
  },
  {
   "cell_type": "markdown",
   "metadata": {},
   "source": [
    "# Definizione del metodo di conteggio"
   ]
  },
  {
   "cell_type": "code",
   "execution_count": 4,
   "metadata": {},
   "outputs": [],
   "source": [
    "def counter(result, tile):\n",
    "    rows, cols, bands = result.shape\n",
    "    X = result.reshape(rows*cols, bands)\n",
    "    \n",
    "    kmeans = KMeans(n_clusters=2, random_state=0).fit(X)\n",
    "    labels_div = kmeans.labels_.reshape(rows, cols)\n",
    "\n",
    "    nucleus = 0\n",
    "\n",
    "    for i in np.unique(labels_div):\n",
    "        blobs = np.int_(morphology.binary_opening(labels_div == i))\n",
    "        count = len(np.unique(measure.label(blobs))) - 1\n",
    "        if count > nucleus:\n",
    "            nucleus = count\n",
    "            \n",
    "    return(count)"
   ]
  },
  {
   "cell_type": "markdown",
   "metadata": {},
   "source": [
    "# Scrittura su CSV dei conteggi"
   ]
  },
  {
   "cell_type": "code",
   "execution_count": 5,
   "metadata": {},
   "outputs": [],
   "source": [
    "def csv_writer():\n",
    "    # Lista dei file jp2 presenti nella cartella Tiles\n",
    "    tiles = os.listdir(os.getcwd() + \"\\\\Campione\")\n",
    "        \n",
    "    with open('CSV\\\\mycsv.csv', \"w\") as csv_file:\n",
    "        writer = csv.writer(csv_file, delimiter=',')\n",
    "        writer.writerow([\"object_name\", \"object_value\"])\n",
    "        \n",
    "        # Algoritmi di segmentazione e di conteggio applicati ad ogni file nella cartella Tiles\n",
    "        for tile in tiles[:]:\n",
    "            # Caricamento dell'immagine in data\n",
    "            nucleus = data.load(os.getcwd() + \"\\\\Campione\\\\\" + tile, True)\n",
    "\n",
    "            # Segmentazione dei tile e conteggio dei nuclei\n",
    "            cellule = segmentation(nucleus, tile)\n",
    "            \n",
    "            # Scrittura della stringa su file csv\n",
    "            writer.writerow([tile,cellule])"
   ]
  },
  {
   "cell_type": "markdown",
   "metadata": {},
   "source": [
    "# Ordinamento CSV in ordine di decrescente di numeri di nuclei "
   ]
  },
  {
   "cell_type": "code",
   "execution_count": 6,
   "metadata": {},
   "outputs": [],
   "source": [
    "def nucleus_sort():\n",
    "    df = pd.read_csv('CSV\\\\mycsv.csv', header = 0)\n",
    "    df = df.sort_values('object_value', ascending=False)\n",
    "    df.to_csv('CSV\\\\sorted_mycsv.csv', index=False)"
   ]
  },
  {
   "cell_type": "markdown",
   "metadata": {},
   "source": [
    "# Creazione di uno spazio ospitante le tiles con più nuclei cellulari"
   ]
  },
  {
   "cell_type": "code",
   "execution_count": 7,
   "metadata": {},
   "outputs": [],
   "source": [
    "def dealing_tiles():\n",
    "    df = pd.read_csv('sorted_mycsv.csv')\n",
    "    saved_column = df['object_name'] \n",
    "    \n",
    "    index = 1\n",
    "    if not os.path.exists(\"Saved\"):\n",
    "        os.makedirs(\"Saved\")\n",
    "    \n",
    "    for tile in saved_column:\n",
    "        if(index < 50):\n",
    "            shutil.copy(os.getcwd() + \"\\\\Tiles\\\\\" + tile, os.getcwd() + \"\\\\Saved\")\n",
    "            shutil.move(\"Saved\\\\\" + tile, \"Saved\\\\\" + str(index) + '_' + tile)\n",
    "            index += 1"
   ]
  },
  {
   "cell_type": "markdown",
   "metadata": {},
   "source": [
    "# Creazione dell'istogramma riassuntivo"
   ]
  },
  {
   "cell_type": "code",
   "execution_count": 8,
   "metadata": {},
   "outputs": [],
   "source": [
    "def plot_histogram(csv_file):\n",
    "    data = pd.read_csv(csv_file, sep = ',', header = 0, index_col = 0)\n",
    "\n",
    "    data.plot(kind = 'bar')\n",
    "    plt.ylabel('Frequency')\n",
    "    plt.xlabel('Nucleus')\n",
    "    plt.title('Cell count')\n",
    "\n",
    "    plt.show()"
   ]
  },
  {
   "cell_type": "markdown",
   "metadata": {},
   "source": [
    "# Applicazione degli algoritmi"
   ]
  },
  {
   "cell_type": "code",
   "execution_count": 9,
   "metadata": {},
   "outputs": [],
   "source": [
    "# Apertura dell'immagine\n",
    "sample_image = Image.open(\"Sample\\\\striscio_completo.jp2\")"
   ]
  },
  {
   "cell_type": "code",
   "execution_count": null,
   "metadata": {},
   "outputs": [],
   "source": [
    "# Divisione di tile delle immagini\n",
    "crop(sample_image, 1500, 1500)"
   ]
  },
  {
   "cell_type": "code",
   "execution_count": null,
   "metadata": {},
   "outputs": [],
   "source": [
    "# Inizio delle operazioni e scrittura su CSV\n",
    "# csv_writer()\n",
    "\n",
    "# Plot del grafico\n",
    "plot_histogram(\"CSV\\\\mycsv.csv\")\n",
    "\n",
    "# Ordino il file csv\n",
    "nucleus_sort()\n",
    "\n",
    "# Plot del grafico\n",
    "plot_histogram(\"CSV\\\\sorted_mycsv.csv\")\n",
    "\n",
    "# Spostamento in una cartella separata dei tiles contenenti più nuclei e successiva catalogazione\n",
    "dealing_tiles()"
   ]
  },
  {
   "cell_type": "code",
   "execution_count": null,
   "metadata": {},
   "outputs": [],
   "source": []
  }
 ],
 "metadata": {
  "kernelspec": {
   "display_name": "Python 3",
   "language": "python",
   "name": "python3"
  },
  "language_info": {
   "codemirror_mode": {
    "name": "ipython",
    "version": 3
   },
   "file_extension": ".py",
   "mimetype": "text/x-python",
   "name": "python",
   "nbconvert_exporter": "python",
   "pygments_lexer": "ipython3",
   "version": "3.6.5"
  }
 },
 "nbformat": 4,
 "nbformat_minor": 2
}
